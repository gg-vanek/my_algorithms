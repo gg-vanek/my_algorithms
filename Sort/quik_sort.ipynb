{
 "cells": [
  {
   "cell_type": "code",
   "execution_count": 8,
   "id": "462222b7",
   "metadata": {},
   "outputs": [],
   "source": [
    "def quik_sort(a, sorting_func=lambda a, b: a<b, sort_start=0, sort_end=-1):\n",
    "    main_pointer = sort_start\n",
    "    help_pointer = sort_end\n",
    "    \n",
    "    if help_pointer == -1:\n",
    "        help_pointer = len(a) - 1\n",
    "    \n",
    "    while main_pointer != help_pointer:\n",
    "        if help_pointer - main_pointer < 0:\n",
    "            if sorting_func(a[main_pointer], a[help_pointer]):\n",
    "                help_pointer -= 1\n",
    "            else:\n",
    "                a[main_pointer], a[help_pointer] = a[help_pointer], a[main_pointer]\n",
    "                main_pointer, help_pointer = help_pointer, main_pointer\n",
    "        elif help_pointer - main_pointer > 0:\n",
    "            if sorting_func(a[main_pointer], a[help_pointer]):\n",
    "                help_pointer += 1\n",
    "            else:\n",
    "                a[main_pointer], a[help_pointer] = a[help_pointer], a[main_pointer]\n",
    "                main_pointer, help_pointer = help_pointer, main_pointer\n",
    "                \n",
    "    quik_sort(a, sorting_func, sort_start=sort_start, sort_end=main_pointer)\n",
    "    quik_sort(a, sorting_func, sort_start=main_pointer, sort_end=sort_end)\n",
    "    \n",
    "    return a"
   ]
  },
  {
   "cell_type": "code",
   "execution_count": 9,
   "id": "f8e0a366",
   "metadata": {},
   "outputs": [
    {
     "name": "stdout",
     "output_type": "stream",
     "text": [
      "[1, 45, 65, 3223, 5454, 35, -34]\n"
     ]
    },
    {
     "ename": "KeyboardInterrupt",
     "evalue": "",
     "output_type": "error",
     "traceback": [
      "\u001b[1;31m---------------------------------------------------------------------------\u001b[0m",
      "\u001b[1;31mKeyboardInterrupt\u001b[0m                         Traceback (most recent call last)",
      "\u001b[1;32m<ipython-input-9-b641a827fbb2>\u001b[0m in \u001b[0;36m<module>\u001b[1;34m\u001b[0m\n\u001b[0;32m      1\u001b[0m \u001b[0ma\u001b[0m \u001b[1;33m=\u001b[0m \u001b[1;33m[\u001b[0m\u001b[1;36m1\u001b[0m\u001b[1;33m,\u001b[0m\u001b[1;36m45\u001b[0m\u001b[1;33m,\u001b[0m\u001b[1;36m65\u001b[0m \u001b[1;33m,\u001b[0m \u001b[1;36m3223\u001b[0m\u001b[1;33m,\u001b[0m \u001b[1;36m5454\u001b[0m\u001b[1;33m,\u001b[0m \u001b[1;36m35\u001b[0m\u001b[1;33m,\u001b[0m \u001b[1;33m-\u001b[0m\u001b[1;36m34\u001b[0m\u001b[1;33m]\u001b[0m\u001b[1;33m\u001b[0m\u001b[1;33m\u001b[0m\u001b[0m\n\u001b[0;32m      2\u001b[0m \u001b[0mprint\u001b[0m\u001b[1;33m(\u001b[0m\u001b[0ma\u001b[0m\u001b[1;33m)\u001b[0m\u001b[1;33m\u001b[0m\u001b[1;33m\u001b[0m\u001b[0m\n\u001b[1;32m----> 3\u001b[1;33m \u001b[0mprint\u001b[0m\u001b[1;33m(\u001b[0m\u001b[0mquik_sort\u001b[0m\u001b[1;33m(\u001b[0m\u001b[0ma\u001b[0m\u001b[1;33m)\u001b[0m\u001b[1;33m)\u001b[0m\u001b[1;33m\u001b[0m\u001b[1;33m\u001b[0m\u001b[0m\n\u001b[0m",
      "\u001b[1;32m<ipython-input-8-0ea6a54510b4>\u001b[0m in \u001b[0;36mquik_sort\u001b[1;34m(a, sorting_func, sort_start, sort_end)\u001b[0m\n\u001b[0;32m      7\u001b[0m \u001b[1;33m\u001b[0m\u001b[0m\n\u001b[0;32m      8\u001b[0m     \u001b[1;32mwhile\u001b[0m \u001b[0mmain_pointer\u001b[0m \u001b[1;33m!=\u001b[0m \u001b[0mhelp_pointer\u001b[0m\u001b[1;33m:\u001b[0m\u001b[1;33m\u001b[0m\u001b[1;33m\u001b[0m\u001b[0m\n\u001b[1;32m----> 9\u001b[1;33m         \u001b[1;32mif\u001b[0m \u001b[0mhelp_pointer\u001b[0m \u001b[1;33m-\u001b[0m \u001b[0mmain_pointer\u001b[0m \u001b[1;33m<\u001b[0m \u001b[1;36m0\u001b[0m\u001b[1;33m:\u001b[0m\u001b[1;33m\u001b[0m\u001b[1;33m\u001b[0m\u001b[0m\n\u001b[0m\u001b[0;32m     10\u001b[0m             \u001b[1;32mif\u001b[0m \u001b[0msorting_func\u001b[0m\u001b[1;33m(\u001b[0m\u001b[0ma\u001b[0m\u001b[1;33m[\u001b[0m\u001b[0mmain_pointer\u001b[0m\u001b[1;33m]\u001b[0m\u001b[1;33m,\u001b[0m \u001b[0ma\u001b[0m\u001b[1;33m[\u001b[0m\u001b[0mhelp_pointer\u001b[0m\u001b[1;33m]\u001b[0m\u001b[1;33m)\u001b[0m\u001b[1;33m:\u001b[0m\u001b[1;33m\u001b[0m\u001b[1;33m\u001b[0m\u001b[0m\n\u001b[0;32m     11\u001b[0m                 \u001b[0mhelp_pointer\u001b[0m \u001b[1;33m-=\u001b[0m \u001b[1;36m1\u001b[0m\u001b[1;33m\u001b[0m\u001b[1;33m\u001b[0m\u001b[0m\n",
      "\u001b[1;31mKeyboardInterrupt\u001b[0m: "
     ]
    }
   ],
   "source": [
    "a = [1,45,65 , 3223, 5454, 35, -34]\n",
    "print(a)\n",
    "print(quik_sort(a))"
   ]
  },
  {
   "cell_type": "code",
   "execution_count": null,
   "id": "88ac8675",
   "metadata": {},
   "outputs": [],
   "source": []
  }
 ],
 "metadata": {
  "kernelspec": {
   "display_name": "Python 3",
   "language": "python",
   "name": "python3"
  },
  "language_info": {
   "codemirror_mode": {
    "name": "ipython",
    "version": 3
   },
   "file_extension": ".py",
   "mimetype": "text/x-python",
   "name": "python",
   "nbconvert_exporter": "python",
   "pygments_lexer": "ipython3",
   "version": "3.8.8"
  }
 },
 "nbformat": 4,
 "nbformat_minor": 5
}
