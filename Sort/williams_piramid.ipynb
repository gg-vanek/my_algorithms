{
 "cells": [
  {
   "cell_type": "code",
   "execution_count": 26,
   "id": "961231e5",
   "metadata": {},
   "outputs": [],
   "source": [
    "a = [1,5,4,3,6,7,8,8,9,0]"
   ]
  },
  {
   "cell_type": "code",
   "execution_count": 27,
   "id": "64fd4b37",
   "metadata": {},
   "outputs": [],
   "source": [
    "def williams_sort(a, sorting_func = lambda a, b: a < b):\n",
    "    array_len = len(a)\n",
    "    tree_len = 0\n",
    "    \n",
    "    current_element_index = 0\n",
    "    while tree_len < array_len:\n",
    "        #поместить в дерево\n",
    "        tree_len+=1\n",
    "        current_element_index = tree_len - 1\n",
    "        #починить дерево\n",
    "        while True:\n",
    "            if current_element_index == 0:\n",
    "                break\n",
    "            # если текущий элемент больше\n",
    "            elif sorting_func(a[(current_element_index-1)//2], a[current_element_index]):\n",
    "                a[(current_element_index-1)//2], a[current_element_index] =  \\\n",
    "                    a[current_element_index], a[(current_element_index-1)//2]\n",
    "                current_element_index = (current_element_index-1)//2\n",
    "            else:\n",
    "                break\n",
    "    \n",
    "    while tree_len > 0:\n",
    "        # берем первый элемент и меняем с последним, уменьшая длину дерева\n",
    "        a[0], a[tree_len-1] = a[tree_len-1], a[0]\n",
    "        tree_len -= 1     \n",
    "        \n",
    "        # чиним дерево\n",
    "        current_element_index = 0\n",
    "        while True:\n",
    "            # если находимся внизу дерева\n",
    "            # тоесть если следующий переход выкинет нас из дерева\n",
    "            if current_element_index*2+1 > tree_len - 1:\n",
    "                break\n",
    "                \n",
    "            # если левая ветка больше\n",
    "            elif sorting_func(a[current_element_index], a[current_element_index*2+1]):\n",
    "                \n",
    "                # если существует правая ветка and правая больше левой\n",
    "                if current_element_index*2+2 < tree_len and \\\n",
    "                    sorting_func(a[current_element_index*2+1], a[current_element_index*2+2]):\n",
    "                    a[current_element_index*2+2], a[current_element_index] = \\\n",
    "                        a[current_element_index], a[current_element_index*2+2]\n",
    "                    current_element_index = current_element_index*2+2\n",
    "                    \n",
    "                # если правой ветки нет или левая больше (или равна) правой\n",
    "                else:\n",
    "                    a[current_element_index*2+1], a[current_element_index] = \\\n",
    "                        a[current_element_index], a[current_element_index*2+1]\n",
    "                    current_element_index = current_element_index*2+1\n",
    "                    \n",
    "            # если существует правая ветка и она больше текущей\n",
    "            elif current_element_index*2+2 < tree_len and \\\n",
    "                sorting_func(a[current_element_index], a[current_element_index*2+2]):\n",
    "                a[current_element_index*2+2], a[current_element_index] = \\\n",
    "                    a[current_element_index], a[current_element_index*2+2]\n",
    "                current_element_index = current_element_index*2+2\n",
    "            # иначе дальше опускать не нужно\n",
    "            else:\n",
    "                break\n",
    "    return a"
   ]
  },
  {
   "cell_type": "code",
   "execution_count": 28,
   "id": "ba72aaa1",
   "metadata": {},
   "outputs": [
    {
     "name": "stdout",
     "output_type": "stream",
     "text": [
      "[1, 5, 4, 3, 6, 7, 8, 8, 9, 0]\n"
     ]
    }
   ],
   "source": [
    "print(a)"
   ]
  },
  {
   "cell_type": "code",
   "execution_count": 30,
   "id": "1fe07a2c",
   "metadata": {},
   "outputs": [
    {
     "data": {
      "text/plain": [
       "[9, 8, 8, 7, 6, 5, 4, 3, 1, 0]"
      ]
     },
     "execution_count": 30,
     "metadata": {},
     "output_type": "execute_result"
    }
   ],
   "source": [
    "williams_sort(a, lambda a,b: a>b)"
   ]
  },
  {
   "cell_type": "code",
   "execution_count": null,
   "id": "b9dc6593",
   "metadata": {},
   "outputs": [],
   "source": []
  },
  {
   "cell_type": "code",
   "execution_count": null,
   "id": "75c1f381",
   "metadata": {},
   "outputs": [],
   "source": []
  },
  {
   "cell_type": "code",
   "execution_count": null,
   "id": "6487a544",
   "metadata": {},
   "outputs": [],
   "source": []
  }
 ],
 "metadata": {
  "kernelspec": {
   "display_name": "Python 3",
   "language": "python",
   "name": "python3"
  },
  "language_info": {
   "codemirror_mode": {
    "name": "ipython",
    "version": 3
   },
   "file_extension": ".py",
   "mimetype": "text/x-python",
   "name": "python",
   "nbconvert_exporter": "python",
   "pygments_lexer": "ipython3",
   "version": "3.8.8"
  }
 },
 "nbformat": 4,
 "nbformat_minor": 5
}
